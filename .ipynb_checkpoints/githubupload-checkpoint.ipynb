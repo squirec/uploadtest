{
 "cells": [
  {
   "cell_type": "code",
   "execution_count": 1,
   "metadata": {},
   "outputs": [
    {
     "name": "stdout",
     "output_type": "stream",
     "text": [
      "Initialized empty Git repository in /home/zhouzhenxiang/zzxeff/.git/\r\n",
      "\n"
     ]
    }
   ],
   "source": [
    "!git init\n",
    "!git remote add origin https://github.com/squirec/uploadtest.git\n",
    "!emacs .gitignore"
   ]
  },
  {
   "cell_type": "code",
   "execution_count": 2,
   "metadata": {},
   "outputs": [
    {
     "name": "stdout",
     "output_type": "stream",
     "text": [
      "# On branch master\r\n",
      "#\r\n",
      "# Initial commit\r\n",
      "#\r\n",
      "# Untracked files:\r\n",
      "#   (use \"git add <file>...\" to include in what will be committed)\r\n",
      "#\r\n",
      "#\t.gitignore\r\n",
      "#\t.ipynb_checkpoints/\r\n",
      "#\tUntitled.ipynb\r\n",
      "#\tana.C~\r\n",
      "#\tcalib.C~\r\n",
      "#\tmakehist.C~\r\n",
      "#\ttest.ipynb\r\n",
      "nothing added to commit but untracked files present (use \"git add\" to track)\r\n",
      "\n"
     ]
    }
   ],
   "source": [
    "!git status"
   ]
  },
  {
   "cell_type": "code",
   "execution_count": 3,
   "metadata": {},
   "outputs": [],
   "source": [
    "!emacs .gitignore"
   ]
  },
  {
   "cell_type": "code",
   "execution_count": 4,
   "metadata": {},
   "outputs": [
    {
     "name": "stdout",
     "output_type": "stream",
     "text": [
      "# On branch master\r\n",
      "#\r\n",
      "# Initial commit\r\n",
      "#\r\n",
      "# Untracked files:\r\n",
      "#   (use \"git add <file>...\" to include in what will be committed)\r\n",
      "#\r\n",
      "#\t.gitignore\r\n",
      "#\t.gitignore~\r\n",
      "#\t.ipynb_checkpoints/\r\n",
      "#\tgithubupload.ipynb\r\n",
      "#\ttest.ipynb\r\n",
      "nothing added to commit but untracked files present (use \"git add\" to track)\r\n",
      "\n"
     ]
    }
   ],
   "source": [
    "!git status"
   ]
  },
  {
   "cell_type": "code",
   "execution_count": 5,
   "metadata": {},
   "outputs": [
    {
     "name": "stdout",
     "output_type": "stream",
     "text": [
      "error: key does not contain a section: global\n",
      "\n",
      "error: key does not contain a section: global\n",
      "\n"
     ]
    }
   ],
   "source": [
    "!git config -- global user.name squirec\n",
    "!git config -- global user.email 1901110116@mail.pku.edu.cn"
   ]
  },
  {
   "cell_type": "code",
   "execution_count": 6,
   "metadata": {},
   "outputs": [
    {
     "name": "stdout",
     "output_type": "stream",
     "text": [
      "ana.C   calib.C   calib.h     githubupload.ipynb  makehist.C~\r\n",
      "ana.C~  calib.C~  calib.root  makehist.C          test.ipynb\r\n",
      "\n"
     ]
    }
   ],
   "source": [
    "!ls"
   ]
  },
  {
   "cell_type": "code",
   "execution_count": 7,
   "metadata": {},
   "outputs": [
    {
     "name": "stdout",
     "output_type": "stream",
     "text": [
      "error: key does not contain a section: global\r\n",
      "\n"
     ]
    }
   ],
   "source": [
    "!git config -- global user.name squirec"
   ]
  },
  {
   "cell_type": "code",
   "execution_count": 8,
   "metadata": {},
   "outputs": [],
   "source": [
    "!git config --global user.name squirec"
   ]
  },
  {
   "cell_type": "code",
   "execution_count": 9,
   "metadata": {},
   "outputs": [],
   "source": [
    "!git config --global user.email 1901110116@mail.pku.edu.cn"
   ]
  },
  {
   "cell_type": "code",
   "execution_count": 10,
   "metadata": {},
   "outputs": [
    {
     "name": "stdout",
     "output_type": "stream",
     "text": [
      "# On branch master\r\n",
      "#\r\n",
      "# Initial commit\r\n",
      "#\r\n",
      "# Untracked files:\r\n",
      "#   (use \"git add <file>...\" to include in what will be committed)\r\n",
      "#\r\n",
      "#\t.gitignore\r\n",
      "#\t.gitignore~\r\n",
      "#\t.ipynb_checkpoints/\r\n",
      "#\tgithubupload.ipynb\r\n",
      "#\ttest.ipynb\r\n",
      "nothing added to commit but untracked files present (use \"git add\" to track)\r\n",
      "\n"
     ]
    }
   ],
   "source": [
    "!git status"
   ]
  },
  {
   "cell_type": "code",
   "execution_count": 12,
   "metadata": {},
   "outputs": [],
   "source": [
    "!git add ."
   ]
  },
  {
   "cell_type": "code",
   "execution_count": null,
   "metadata": {},
   "outputs": [],
   "source": [
    "!git commit -m \"2020/08/31\""
   ]
  },
  {
   "cell_type": "code",
   "execution_count": null,
   "metadata": {},
   "outputs": [],
   "source": [
    "!git push -u origin master"
   ]
  },
  {
   "cell_type": "code",
   "execution_count": null,
   "metadata": {},
   "outputs": [],
   "source": []
  }
 ],
 "metadata": {
  "kernelspec": {
   "display_name": "ROOT C++",
   "language": "c++",
   "name": "root"
  },
  "language_info": {
   "codemirror_mode": "text/x-c++src",
   "file_extension": ".C",
   "mimetype": " text/x-c++src",
   "name": "c++"
  }
 },
 "nbformat": 4,
 "nbformat_minor": 2
}
